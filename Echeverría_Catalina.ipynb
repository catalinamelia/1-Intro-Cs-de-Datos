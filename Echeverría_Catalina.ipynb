{
 "cells": [
  {
   "cell_type": "code",
   "execution_count": null,
   "id": "b4492a96",
   "metadata": {},
   "outputs": [],
   "source": []
  },
  {
   "cell_type": "markdown",
   "id": "e279ff69",
   "metadata": {},
   "source": [
    "# Parte I: cúmulo de Virgo\n",
    "El archivo \"cumulo_de_Virgo.dat\" contiene una tabla con información de las 160 galaxias más grandes del cúmulo de galaxias de Virgo.\n",
    "\n",
    "## Pregunta 1 (1 punto)\n",
    "• De las columnas que contiene dicha tabla, leer \"Type\" (el tipo de galaxia), \"Size\" (el tamaño de la\n",
    "galaxia, en miles a años luz) y \"RV\" (la velocidad radial de la galaxia, en km/s) y guardarlas en listas\n",
    "con nombres apropiados.\n",
    "\n",
    "• Estimar la moda del tipo de galaxias en el cúmulo e imprimir un mensaje por pantalla con esta\n",
    "información."
   ]
  },
  {
   "cell_type": "code",
   "execution_count": 1,
   "id": "f0dbbfcb",
   "metadata": {},
   "outputs": [
    {
     "name": "stdout",
     "output_type": "stream",
     "text": [
      "La moda del tipo de galaxias en el cúmulo es: S\n"
     ]
    }
   ],
   "source": [
    "import matplotlib as mpl \n",
    "mpl.rc('font', family='serif')\n",
    "import statistics as st \n",
    "\n",
    "archivo = open('cumulo_de_Virgo.dat', 'r')\n",
    "tipos_de_galaxias = []\n",
    "tamaño_de_la_galaxia = []\n",
    "RV = []\n",
    "\n",
    "for _ in range(4):\n",
    "    archivo.readline() \n",
    "for lin in archivo:\n",
    "    tipos_de_galaxias.append(lin.split()[6])\n",
    "    tamaño_de_la_galaxia.append(float(lin.split()[8]))\n",
    "    RV.append(float(lin.split()[-1]))\n",
    "\n",
    "archivo.close()\n",
    "\n",
    "print('La moda del tipo de galaxias en el cúmulo es:', st.mode(tipos_de_galaxias)[0][0])"
   ]
  },
  {
   "cell_type": "markdown",
   "id": "2a8fb929",
   "metadata": {},
   "source": [
    "## Pregunta 2 (2 puntos)\n",
    "Hacer un gráfico de barras de los distintos tipos de galaxia:\n",
    "\n",
    "• Ajustar las dimensiones del gráfico para que las barras y sus etiquetas se distingan separadas de las\n",
    "demás.\n",
    "\n",
    "• Agregar un título al gráfico (además de las etiquetas en los ejes).\n",
    "\n",
    "• Agregar marcas en el eje vertical que marquen las unidades: es decir, marcas en 10, 11, 12, 13..., en vez\n",
    "de solamente las marcas mayores en 10, 15, 20, por ejemplo.\n",
    "\n",
    "• Rehacer el mismo gráfico de barras, pero graficando en el eje Y el porcentaje de galaxias en vez de la\n",
    "frecuencia absoluta.\n",
    "\n",
    "¿Cuales son los tres tipos de galaxia más abundantes en esta muestra de galaxias del cúmulo de Virgo?"
   ]
  },
  {
   "cell_type": "code",
   "execution_count": null,
   "id": "89144cb0",
   "metadata": {},
   "outputs": [],
   "source": [
    "import matplotlib.pyplot as plt\n",
    "from matplotlib.ticker import AutoMinorLocator\n",
    "\n",
    "#Gráfico de frecuencia absoluta\n",
    "frequency = st.mode(tipos_de_galaxias)[1]\n",
    "fig1 = plt.figure(figsize = (10,7))\n",
    "ax1 = fig1.add_subplot()\n",
    "fig1.subplots_adjust(top=0.8,\n",
    "                    bottom=0.3,\n",
    "                    left=0.1,\n",
    "                    right=0.9)\n",
    "ax1.set_title('Tipos de galaxias en el Cúmulo de Virgo', fontsize=14)\n",
    "ax1.set_xlabel('Tipo', fontsize=10)\n",
    "ax1.set_ylabel('Cantidad', fontsize=10)\n",
    "ax1.yaxis.set_minor_locator(AutoMinorLocator(5))\n",
    "ax1.bar(frequency.keys(), freq.values(), edgecolor='#7eb54e', color= 'pink')\n",
    "plt.show()\n",
    "\n",
    "#Gráfico: porcentaje de galaxias\n",
    "porcentaje_galaxias = [(cuentas / sum(freq.values())) * 100 for cuentas in freq.values()]\n",
    "\n",
    "fig2 = plt.figure(figsize = (10,7))\n",
    "ax2 = fig2.add_subplot()\n",
    "fig2.subplots_adjust(top=0.8,\n",
    "                    bottom=0.3,\n",
    "                    left=0.1,\n",
    "                    right=0.9)\n",
    "ax2.set_title('Tipos de Galaxias en el Cúmulo de Virgo', fontsize=14)\n",
    "ax2.set_xlabel('Tipo', fontsize=10)\n",
    "ax2.set_ylabel('Porcentaje', fontsize=10)\n",
    "ax2.yaxis.set_minor_locator(AutoMinorLocator(5))\n",
    "ax2.bar(frequency.keys(), porcentaje_de_galaxias, edgecolor='olive',\n",
    "       color='cyan')\n",
    "plt.show()\n",
    "print('Los tres tipos de Galaxia más abundantes en el Cúmulo de Virgo según esta muestra son: las S0, SBc y E')"
   ]
  },
  {
   "cell_type": "markdown",
   "id": "db6397f2",
   "metadata": {},
   "source": [
    "## Pregunta 3 (1 punto)\n",
    "\n",
    "Hacer un gráfico de torta de los distintos tipos de galaxia."
   ]
  },
  {
   "cell_type": "code",
   "execution_count": 26,
   "id": "fb04f965",
   "metadata": {},
   "outputs": [
    {
     "ename": "AttributeError",
     "evalue": "'str' object has no attribute 'values'",
     "output_type": "error",
     "traceback": [
      "\u001b[1;31m---------------------------------------------------------------------------\u001b[0m",
      "\u001b[1;31mAttributeError\u001b[0m                            Traceback (most recent call last)",
      "Cell \u001b[1;32mIn[26], line 4\u001b[0m\n\u001b[0;32m      2\u001b[0m ax3 \u001b[38;5;241m=\u001b[39m f3\u001b[38;5;241m.\u001b[39madd_subplot()\n\u001b[0;32m      3\u001b[0m ax3\u001b[38;5;241m.\u001b[39mset_title(\u001b[38;5;124m'\u001b[39m\u001b[38;5;124mTipos de galaxias en el Cúmulo de Virgo\u001b[39m\u001b[38;5;124m'\u001b[39m, fontsize\u001b[38;5;241m=\u001b[39m\u001b[38;5;241m10\u001b[39m)\n\u001b[1;32m----> 4\u001b[0m ax3\u001b[38;5;241m.\u001b[39mpie(\u001b[43mfrequency\u001b[49m\u001b[38;5;241;43m.\u001b[39;49m\u001b[43mvalues\u001b[49m(), labels\u001b[38;5;241m=\u001b[39mfrequency\u001b[38;5;241m.\u001b[39mkeys(), labeldistance\u001b[38;5;241m=\u001b[39m\u001b[38;5;28;01mNone\u001b[39;00m,\n\u001b[0;32m      5\u001b[0m        radius\u001b[38;5;241m=\u001b[39m\u001b[38;5;241m0.6\u001b[39m, autopct\u001b[38;5;241m=\u001b[39m\u001b[38;5;124m'\u001b[39m\u001b[38;5;132;01m%1.1f\u001b[39;00m\u001b[38;5;132;01m%%\u001b[39;00m\u001b[38;5;124m'\u001b[39m, pctdistance\u001b[38;5;241m=\u001b[39m\u001b[38;5;241m1.1\u001b[39m)\n\u001b[0;32m      6\u001b[0m ax3\u001b[38;5;241m.\u001b[39mlegend(loc\u001b[38;5;241m=\u001b[39m\u001b[38;5;124m'\u001b[39m\u001b[38;5;124mcenter right\u001b[39m\u001b[38;5;124m'\u001b[39m, title\u001b[38;5;241m=\u001b[39m\u001b[38;5;124m'\u001b[39m\u001b[38;5;124mTipos\u001b[39m\u001b[38;5;124m'\u001b[39m, framealpha\u001b[38;5;241m=\u001b[39m\u001b[38;5;241m0\u001b[39m)\n\u001b[0;32m      7\u001b[0m plt\u001b[38;5;241m.\u001b[39mshow()\n",
      "\u001b[1;31mAttributeError\u001b[0m: 'str' object has no attribute 'values'"
     ]
    },
    {
     "data": {
      "image/png": "[encoded data removed]",
      "text/plain": [
       "<Figure size 1000x1500 with 1 Axes>"
      ]
     },
     "metadata": {},
     "output_type": "display_data"
    }
   ],
   "source": [
    "f3 = plt.figure(figsize=(10,15))\n",
    "ax3 = f3.add_subplot()\n",
    "ax3.set_title('Tipos de galaxias en el Cúmulo de Virgo', fontsize=10)\n",
    "ax3.pie(frequency.values(), labels=frequency.keys(), labeldistance=None,\n",
    "       radius=0.6, autopct='%1.1f%%', pctdistance=1.1)\n",
    "ax3.legend(loc='center right', title='Tipos', framealpha=0)\n",
    "plt.show()"
   ]
  },
  {
   "cell_type": "markdown",
   "id": "bd659bcd",
   "metadata": {},
   "source": [
    "## Pregunta 4 (3 puntos)\n",
    "\n",
    "Confeccione un histograma de las velocidades radiales de las galaxias del cúmulo de Virgo:\n",
    "\n",
    "• Para construir la lista de los bines a utilizar, basarse en el rango de los datos, y decidir el ancho de los bines usando la regla de Freeman & Diaconis.\n",
    "\n",
    "• Calcule la velocidad radial promedio y márquela encima del histograma como una linea vertical sólida\n",
    "negra. Coloque texto junto a ella indicando Promedio=XX km/s, con xx el valor obtenido para el\n",
    "promedio, escrito como un número entero (para hacer esto, puede utilizar formateo de strings).\n",
    "\n",
    "• Calcule la mediana de la velocidad radial y márquela encima del histograma como una linea a trazos\n",
    "roja. Coloque texto junto a ella indicando Mediana=XX km/s, con xx el valor obtenido para la mediana,\n",
    "escrito como número entero.\n",
    "\n",
    "• Calcule la desviación estándar. Reporte el valor en el gráfico por debajo de donde fue escrito el\n",
    "promedio (STD=xx km/s). Grafique un par de líneas punteadas verdes en posiciones que señalen el intervalo promedio-STD : promedio+STD.\n",
    "\n",
    "• Calcule el rango intercuartílico. Reporte el valor escribiéndolo en el gráfico por debajo de donde fue escrita la mediana. Grafique un par de líneas punteadas azules que señalen las posiciones de los cuartiles Q1 y Q3."
   ]
  },
  {
   "cell_type": "code",
   "execution_count": null,
   "id": "4c5e60b4",
   "metadata": {},
   "outputs": [],
   "source": [
    "#Medidas de dispersión\n",
    "Rango_interq= st.iqr(VR)\n",
    "Q1_VR, median_vel, Q3_RV = st.cuartil(VR)\n",
    "w_bins1     = 2*Rango_interq*(len(VR)**(-1/3))\n",
    "promedio_VR   = st.mean(VR)\n",
    "mediana_VR = st.median(VR)\n",
    "std_VR    = st.std(VR)\n",
    "\n",
    "#Bin\n",
    "bin_uno = []\n",
    "a = min(VR)\n",
    "while a < max(VR):\n",
    "    bin_uno.append(a)\n",
    "    a += w_bins1\n",
    "\n",
    "#Gráfico\n",
    "f4 = plt.figure(figsize=(10,5))\n",
    "ax4 = f4.add_subplot()\n",
    "ax4.set_title('Distribución de V_radial en el Cúmulo de Virgo',\n",
    "             fontsize=12)\n",
    "ax4.set_xlabel('V_radial', fontsize=12)\n",
    "ax4.set_ylabel('N', fontsize = 12)\n",
    "ax4.hist(VR, bins=bin_uno, color='pink',\n",
    "         edgecolor='green')\n",
    "\n",
    "ax4.axvline(promedio_VR, color='black', linewidth=2)                         \n",
    "ax4.text(promedio_VR+10, 40, s='Promedio= ' + str(int(promedio_VR))             \n",
    "         + r'$\\frac{km}{s}$', fontsize=13)\n",
    "\n",
    "ax4.axvline(mediana_VR, color='red',                                       \n",
    "            linestyle='--', linewidth=2)\n",
    "ax4.text(230, 40, s='Mediana= ' + str(int(mediana_VR)) \n",
    "         + r'$\\frac{km}{s}$', color='r', fontsize=13)                      \n",
    "\n",
    "ax4.axvline(Q1_VR, color='blue', linestyle=':',\n",
    "            linewidth=2)\n",
    "ax4.axvline(Q3_VR, color='blue', linestyle=':',\n",
    "            linewidth=2)\n",
    "ax4.text(230, 37, s='IQR= ' + str(int(iqr_vel)) +\n",
    "         r'$\\frac{km}{s}$', fontsize=13, color='b')\n",
    "\n",
    "ax4.axvline(promedio_VR-std_RV, color='green',\n",
    "            linestyle=':', linewidth=2)\n",
    "ax4.axvline(promedio_VR+std_VR, color='green',\n",
    "            linestyle=':', linewidth=2)\n",
    "ax4.text(promedio_VR+10, 37, s='STD= '+ str(int(std_vel)) +\n",
    "         r'$\\frac{km}{s}$', color='g', fontsize=13)\n",
    "plt.show()"
   ]
  },
  {
   "cell_type": "markdown",
   "id": "3d3ca3df",
   "metadata": {},
   "source": [
    "## Pregunta 5 (2 puntos)\n",
    "\n",
    "Para esta pregunta necesitará las listas con los datos de velocidad radial y de tamaño de las galaxias. De todos los tipos de galaxia con 10 o más observaciones en la muestra ¿cuál es el tipo de galaxia más grande (en tamaño) en promedio?\n",
    "\n",
    "• Para responder a esto, deberá separar estas categorías con 10 o más observaciones y calcular el promedio de la variable size para cada una de ellas. Imprimir por pantalla el tipo de galaxia y su tamaño promedio.\n",
    "\n",
    "• ¿Cambia la respuesta a la pregunta si se usa la mediana en vez del promedio para calcular el valor\n",
    "\"típico\" del tamaño de las galaxias de cada uno de estos tipos?"
   ]
  },
  {
   "cell_type": "code",
   "execution_count": null,
   "id": "81815de5",
   "metadata": {},
   "outputs": [],
   "source": [
    "lista = []\n",
    "for tipos_de_galaxias in frequency:\n",
    "    if frequency[tipos_de_galaxias] >= 10:\n",
    "        lista.append(tipos_de_galaxias)\n",
    "print('Los tipos de galaxias con 10 o más observaciones es:', lista)\n",
    "\n",
    "for tipos_de_galaxias in lista:\n",
    "    index_tipo = [i for i in range(len(tipos_de_galaxias)) if tipos_de_galaxias[i] == tipos_de_galaxias]\n",
    "    size_tipo = [tamaño[i] for i in index_tipo]\n",
    "    mean_size = sum(size_tipo) / len(size_tipo)\n",
    "    print('Tipo de galaxia: {tipos_de_galaxias}, Tamaño promedio: {mean_size:.3f} ')\n",
    "\n",
    "#mediana\n",
    "for tipos_de_galaxias in lista:\n",
    "    index_tipo = [i for i in range(len(tipos_de_galaxias)) if tipos_de_galaxias[i] == tipos_de_galaxias]\n",
    "    size_tipo = [tamaño[i] for i in index_tipo]\n",
    "    median_tipo = st.mediana(size_tipo)\n",
    "    print('Tipo de galaxia: {tipos_de_galaxias}, Mediana del tamaño: {median_tipo:.3f}')"
   ]
  },
  {
   "cell_type": "markdown",
   "id": "384ae496",
   "metadata": {},
   "source": [
    "# Parte II: Omega Centauri\n",
    "\n",
    "La tabla \"omegaCen.dat\", que trabajamos en clases, contiene diversas propiedades para 2399 estrellas\n",
    "observadas en la dirección del cielo donde se encuentra el cúmulo globular (o quizá galaxia enana) Omega Centauri.\n",
    "\n",
    "Leer los datos de la tabla \"omegaCen.dat\". De entre las varias columnas que contiene, necesita leer las siguientes tres:\n",
    "\n",
    "• K: magnitud (brillo aparente de la estrella) como registrada en el filtro fotométrico K.\n",
    "\n",
    "• VHELIO_AVG: velocidad radial heliocéntrica de las estrellas, en km/s.\n",
    "\n",
    "• M_H: metalicidad. Esto es, el contenido (en una escala logarítmica usual) de elementos químicos más\n",
    "pesados que el helio que contiene cada estrella.\n",
    "\n",
    "Para leer la tabla, se deberá proceder iterando sobre ella, usando split() para separar las columnas respectivas, y convirtiendo los valores a float antes de agregarlos a las listas respectivas para los valores de velocidad heliocéntrica, metalicidad y magnitud K.\n",
    "\n",
    "## Pregunta 6 (1 punto)\n",
    "\n",
    "Imprimir el promedio, la mediana, y los percentiles 25 y 75 de las velocidades radiales.\n",
    "\n",
    "Es posible que algunos de los resultados sean NaN. La razón de esto es que la tabla tiene mediciones\n",
    "inexistentes. Si examina la tabla, verá que hay algunos valores con \"nan\", con lo que al leer los datos como indicado anteriormente, resulta que cada una de las listas de velocidad, metalicidad y magnitud K terminará con algunos valores NaN de la clase float.\n",
    "\n",
    "Para resolver este problema, debe modificar sus funciones de estadística descriptiva (si es que no lo ha hecho ya) para que eliminen los valores NaN de la lista que se les de como entrada, antes de realizar los cálculos. Para ello puede ser útil el método math.isfinite() o math.isnan() del módulo math."
   ]
  },
  {
   "cell_type": "code",
   "execution_count": 11,
   "id": "7e9460b3",
   "metadata": {},
   "outputs": [
    {
     "name": "stdout",
     "output_type": "stream",
     "text": [
      "El promedio de RV es: 190.25935864000837\n",
      "La mdiana RV es: 230.19058\n",
      "Los ercentiles 25 y 75 de RV son: 217.403515 , 238.921585\n"
     ]
    }
   ],
   "source": [
    "import math\n",
    "\n",
    "archivo2 = open('omegaCen.dat', 'r')\n",
    "K_mag = []\n",
    "v_helio = []\n",
    "m_h = []\n",
    "archivo2.readline()\n",
    "\n",
    "for linea in archivo2:\n",
    "    K_mag.append(float(linea.split()[7]))\n",
    "    v_helio.append(float(linea.split()[8]))\n",
    "    m_h.append(float(linea.split()[13]))\n",
    "\n",
    "#Filtraré los datos acá para no tener problemas con los len()\n",
    "K_mag = [k for k in K_mag if math.isfinite(k)]\n",
    "v_helio = [k for k in v_helio if math.isfinite(k)]\n",
    "m_h = [k for k in m_h if math.isfinite(k)]\n",
    "\n",
    "#Pregunta\n",
    "print('El promedio de RV es:', st.mean(v_helio))\n",
    "print('La mdiana RV es:', st.median(v_helio))\n",
    "print('Los ercentiles 25 y 75 de RV son:', st.quantiles(v_helio)[0],',' ,st.quantiles(v_helio)[2])\n",
    "archivo2.close()"
   ]
  },
  {
   "cell_type": "markdown",
   "id": "b486dd36",
   "metadata": {},
   "source": [
    "## Pregunta 7 (2 puntos)\n",
    "\n",
    "Confeccione un histograma de las velocidades radiales de las estrellas de la muestra de Omega Centauri:\n",
    "\n",
    "• Ajuste el número de bines hasta obtener una visualización apropiada de la distribución de valores de las observaciones ¿como describiría la forma de esta distribución?\n",
    "\n",
    "• ¿Cuál es el rango de los datos (el mínimo y máximo valores)? ¿como se relaciona el rango total de los datos con la extensión de la región donde, según el histograma, está la gran mayoría de los datos? ¿a que se debe esta discrepancia?\n",
    "\n",
    "• Hacer un segundo histograma. Para ello debe definir una lista de bines, similar a lo que se haría con np.arange(), pero usando bucles. Para ello defina (mirando el histograma anterior) un valor mínimo y máximo que encierren apropiadamente la gran mayoría de los datos, y un tamaño de bin. Para determinar este último se pueden probar varios valores hasta obtener un histograma que proporcione una\n",
    "visión detallada de la distribución de los valores de velocidad radial."
   ]
  },
  {
   "cell_type": "code",
   "execution_count": 13,
   "id": "f1ba8b99",
   "metadata": {},
   "outputs": [
    {
     "data": {
      "image/png": "[encoded data removed]",
      "text/plain": [
       "<Figure size 1000x500 with 1 Axes>"
      ]
     },
     "metadata": {},
     "output_type": "display_data"
    },
    {
     "name": "stdout",
     "output_type": "stream",
     "text": [
      "La forma de distribución parece ser bimodal\n",
      "El rango de datos es: 1412.16384  \n",
      "Con un mínimo y máximo de: -508.8782 903.28564\n",
      "Es posible visualizar que el rango de los datos    es mucho mayor respecto a donde se concentran los datos, esta discrepancia puede darse por la existencia de valores atípicos dentro de la muestra\n"
     ]
    },
    {
     "data": {
      "image/png": "[encoded data removed]",
      "text/plain": [
       "<Figure size 1000x500 with 1 Axes>"
      ]
     },
     "metadata": {},
     "output_type": "display_data"
    }
   ],
   "source": [
    "#Primer histograma\n",
    "f5 = plt.figure(figsize=(10,5))\n",
    "ax5 = f5.add_subplot()\n",
    "ax5.set_title('Histograma de V_helio hacia Omega Centauri', fontsize=10)\n",
    "ax5.set_xlabel('V_helio', fontsize=10)\n",
    "ax5.set_ylabel('N', fontsize=10)\n",
    "ax5.yaxis.set_minor_locator(AutoMinorLocator(2))\n",
    "ax5.hist(v_helio, bins=48,\n",
    "         edgecolor='purple', color='pink')\n",
    "plt.show()\n",
    "print('La forma de distribución parece ser bimodal')\n",
    "print('El rango de datos es: 1412.16384 ', '\\nCon un mínimo y máximo de:', min(v_helio),\\\n",
    "     max(v_helio))\n",
    "print('Es posible visualizar que el rango de los datos    es mucho mayor respecto a donde se concentran los datos, esta discrepancia puede darse por la existencia de valores atípicos dentro de la muestra')\n",
    "\n",
    "#Segundo histograma\n",
    "segundo_hist = [v for v in v_helio if (v > -200) and (v < 300)]\n",
    "\n",
    "w_bin = 9.5     \n",
    "l_bin = []\n",
    "a = min(segundo_hist)\n",
    "while a < max(segundo_hist):\n",
    "    l_bin.append(a)\n",
    "    a += w_bin\n",
    "    \n",
    "f6 = plt.figure(figsize=(10,5))\n",
    "ax6 = f6.add_subplot()\n",
    "ax6.set_title('Histograma ajustado de V_helio hacia Omega Centauri',\n",
    "              fontsize=10)\n",
    "ax6.set_xlabel('V_helio', fontsize=10)\n",
    "ax6.set_ylabel('N',fontsize=10)\n",
    "ax6.yaxis.set_minor_locator(AutoMinorLocator(2))\n",
    "ax6.hist(segundo_hist, bins=l_bin, edgecolor='pink',\\\n",
    "        color='purple')\n",
    "\n",
    "plt.show()"
   ]
  },
  {
   "cell_type": "markdown",
   "id": "fe6ed357",
   "metadata": {},
   "source": [
    "## Pregunta 8 (5 puntos)\n",
    "\n",
    "Usando la variable metalicidad de la tabla, podemos intentar separar las estrellas que genuinamente\n",
    "pertenecerían a Omega Centauri. La idea detrás de esto es que las estrellas de un cúmulo globular habrían nacido juntas y por lo tanto comparten una metalicidad típica (cosa que no es cierta del todo, pero es una buena aproximación). Entonces, la separación de estrellas de la muestra se puede hacer seleccionando las estrellas cuya metalicidad es menor o igual que -0.7 dex:\n",
    "\n",
    "• Separar las velocidades radiales de las estrellas putativamente pertenecientes a Omega Centauri según su metalicidad. Una vez separadas, escriba código que imprima una lista con los deciles de este conjunto de datos, usando un decimal (deberá usar formateo de strings).\n",
    "\n",
    "• Hacer un histograma de las velocidades radiales de esta muestra de estrellas de Omega Centauri.\n",
    "\n",
    "• Vemos que esta selección de estrellas contiene un cierto número de valores atípicos. Hacer un segundo histograma donde se ajuste el rango del eje X de la figura para tener más detalle de la distribución principal. Ahora que se está examinando más en detalle, se puede jugar nuevamente con el número de bines, a fin de obtener una visualización detallada de la distribución de las observaciones ¿cómo podríamos describir la forma de esta distribución?\n",
    "\n",
    "• Como se puede leer en la documentación online de plt.hist(), este método retorna algunas cosas. La\n",
    "primera de ellas (las retorna en un orden definido, por lo que podemos asignarlas al desempaquetarlas a variables que definamos nosotros) corresponde a la cantidad de observaciones en cada bin. La segunda\n",
    "de ellas corresponde a los bordes de los bines. Utilice estas dos listas de datos para determinar la moda de la distribución de velocidades radiales graficadas en el punto anterior. Graficar la posición de la moda como una linea roja a trazos. Etiquetar este elemento gráfico, es decir, usar la keyword \"label\" en el método utilizado para graficar la línea vertical. Poner el texto de la etiqueta usando el formato \"Moda=xxx.x km/s\", donde debe usar un decimal (lo que se puede lograr con formato de strings del valor obtenido para la moda). Consejo: dados los bordes de los bines (n+1 valores, con n el número de bines), podemos calcular para cada uno (en un bucle) la posición del medio de cada bin (un promedio).\n",
    "\n",
    "Luego determinamos el índice del bin con más cuentas (usando otro bucle), y vemos a que posición\n",
    "corresponde. Esa es la moda.\n",
    "\n",
    "• Calcular el promedio de los datos y graficarlo con una línea azul a trazos, Etiquetar este elemento\n",
    "gráfico, poniendo como texto \"Promedio=xxx.x km/s\", donde debe usar un decimal.\n",
    "\n",
    "• Calcular la mediana de los datos y graficarla con una línea verde a trazos, Etiquetar este elemento\n",
    "gráfico, poniendo como texto \"Mediana=xxx.x km/s\", donde debe usar un decimal."
   ]
  },
  {
   "cell_type": "code",
   "execution_count": null,
   "id": "0d1e6d80",
   "metadata": {},
   "outputs": [],
   "source": []
  },
  {
   "cell_type": "markdown",
   "id": "c67b1ce7",
   "metadata": {},
   "source": [
    "## Pregunta 9 (3 puntos)\n",
    "Graficar un histograma con las mismas características del anterior, pero sin las líneas de promedio, moda y mediana. A Continuación:\n",
    "\n",
    "• Calcular la desviación estándar de las velocidades radiales de las estrellas de la selección de Omega Centauri y graficarlas como dos lineas punteadas naranjas en las posiciones promedio - STD y promedio + STD. Etiquetar una de las líneas con el texto \"STD=xxx.x km/s\", donde debe usar un decimal.\n",
    "\n",
    "• Calcular el MAD de las velocidades radiales de las estrellas de la selección de Omega Centauri. Usarla como un estimador de la desviación estándar (MAD_std; multiplicando por el factor respectivo) y\n",
    "graficarla como dos lineas punteadas cian en las posiciones mediana - MAD_std y mediana + MAD_std.\n",
    "Etiquetar una de las líneas con el texto \"MAD STD=xxx.x km/s\", donde debe usar un decimal.\n",
    "\n",
    "• A pesar de que el valor de MAD calculado anteriormente fue escalado para utilizarse como un estimador consistente con la desviación estándar, el intervalo que este determina en torno a la mediana de los datos es diferente de la que queda determinada por la desviación estándar ¿a que se debe esto? ¿de que manera podría cortar/seleccionar estrellas de la selección de Omega Centauri para probar que ambas estimaciones de dispersión pueden ser consistentes? Graficar una segunda versión de la figura con esta sub-selección."
   ]
  },
  {
   "cell_type": "code",
   "execution_count": null,
   "id": "9f34c90b",
   "metadata": {},
   "outputs": [],
   "source": []
  },
  {
   "cell_type": "markdown",
   "id": "0fbf3110",
   "metadata": {},
   "source": [
    "## Pregunta 10 (2 puntos)\n",
    "\n",
    "Hacer histogramas de las magnitudes K de todas las estrellas de la tabla \"omegaCen.dat\":\n",
    "\n",
    "• Graficar tres versiones del histograma en la misma figura, donde el número de bins venga determinado\n",
    "por las reglas de Stutges, Scott y Freeman & Diaconis, respectivamente. Para mejor visualización, use el estilo de histograma llamado \"step\", que dibuja el contorno de la distribución de barras del histograma.\n",
    "\n",
    "• Utilice tres colores diferentes para los histogramas y etiquételos. La ubicación de la caja con la leyenda debe estar en la esquina superior izquierda del gráfico.\n",
    "\n",
    "• Una vez que estén graficados los histogramas, fijar el rango Y del gráfico a un rango conveniente para la visualización. A continuación use ese rango para graficar un área sombreada (plt.fill_between()) que destaque el rango intercuartílico (que determinará la extensión en X del área sombreada). Utilice algún color a elección y ponerlo semi-transparente (keyword \"alpha\").\n",
    "\n",
    "• Poner un número apropiado de marcas menores en los ejes X e Y. Ejemplo, si el eje Y tiene marcas en 0, 50, 100, 150, etc, convendría poner las marcas menores cada 10 unidades."
   ]
  },
  {
   "cell_type": "code",
   "execution_count": null,
   "id": "f2d32b6f",
   "metadata": {},
   "outputs": [],
   "source": []
  }
 ],
 "metadata": {
  "kernelspec": {
   "display_name": "Python 3 (ipykernel)",
   "language": "python",
   "name": "python3"
  },
  "language_info": {
   "codemirror_mode": {
    "name": "ipython",
    "version": 3
   },
   "file_extension": ".py",
   "mimetype": "text/x-python",
   "name": "python",
   "nbconvert_exporter": "python",
   "pygments_lexer": "ipython3",
   "version": "3.11.4"
  }
 },
 "nbformat": 4,
 "nbformat_minor": 5
}
